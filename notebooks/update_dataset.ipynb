{
 "cells": [
  {
   "cell_type": "code",
   "execution_count": null,
   "id": "9c454f7c",
   "metadata": {},
   "outputs": [],
   "source": [
    "import io\n",
    "import os\n",
    "import requests\n",
    "import json\n",
    "import pandas as pd\n",
    "from dotenv import load_dotenv"
   ]
  },
  {
   "cell_type": "code",
   "execution_count": null,
   "id": "03fdabbf",
   "metadata": {},
   "outputs": [],
   "source": [
    "load_dotenv()\n",
    "\n",
    "API_KEY = os.getenv(\"RENEWABLE_NINJA_API\")\n"
   ]
  },
  {
   "cell_type": "code",
   "execution_count": null,
   "id": "f8f18340",
   "metadata": {},
   "outputs": [],
   "source": [
    "API_BASE = 'https://www.renewables.ninja/api/'\n",
    "\n",
    "s = requests.session()\n",
    "# Send token header with each request\n",
    "s.headers = {'Authorization': 'Token ' + API_KEY}\n",
    "\n",
    "URL = API_BASE + 'data/wind'"
   ]
  },
  {
   "cell_type": "code",
   "execution_count": null,
   "id": "2d674018",
   "metadata": {},
   "outputs": [],
   "source": [
    "def get_data(url, lat, lon, start_date, end_date):\n",
    "    \n",
    "\targs = {\n",
    "    'lat': lat,           \n",
    "    'lon': lon,           \n",
    "    'date_from': start_date,\n",
    "    'date_to': end_date,\n",
    "\t\n",
    "\t# std options\n",
    "\n",
    "    'capacity': 1.0,\n",
    "    'height': 100,           \n",
    "    'turbine': 'Vestas V80 2000', \n",
    "    'format': 'json',\n",
    "    'mean' : 'month',\n",
    "    'raw': 'true'\n",
    "\t}\n",
    "\tr = s.get(url, params=args)\n",
    "\tprint(r.status_code)\n",
    "\n",
    "\tjson_string = json.dumps(r.json()['data'])\n",
    "\tjson_data = io.StringIO(json_string)\n",
    "\n",
    "\tdata = pd.read_json(json_data, \n",
    "\t\t\t\t\t orient='index').drop('electricity', axis=1)\n",
    "\n",
    "\treturn data\n"
   ]
  },
  {
   "cell_type": "code",
   "execution_count": null,
   "id": "23c8cf13",
   "metadata": {},
   "outputs": [],
   "source": [
    "data['estado'] = 'estado'\n",
    "data.head()"
   ]
  },
  {
   "cell_type": "code",
   "execution_count": null,
   "id": "c78298af",
   "metadata": {},
   "outputs": [],
   "source": [
    "coordinates = pd.read_excel(\"../data/raw/state_coordinates.xlsx\")\n"
   ]
  },
  {
   "cell_type": "code",
   "execution_count": null,
   "id": "d76f5a1a",
   "metadata": {},
   "outputs": [],
   "source": [
    "coordinates.head()"
   ]
  },
  {
   "cell_type": "code",
   "execution_count": null,
   "id": "1df1abfb",
   "metadata": {},
   "outputs": [],
   "source": [
    "start_date = '2024-01-01'\n",
    "end_date = '2024-12-31'"
   ]
  },
  {
   "cell_type": "code",
   "execution_count": null,
   "id": "8d5236cd",
   "metadata": {},
   "outputs": [],
   "source": [
    "wind_speed = pd.DataFrame()"
   ]
  },
  {
   "cell_type": "code",
   "execution_count": null,
   "id": "39933916",
   "metadata": {},
   "outputs": [],
   "source": [
    "for i in range(0, len(coordinates)):\n",
    "    print(i)\n",
    "    estado = coordinates['Estado'][i]\n",
    "    lat = coordinates['Latitude'][i]\n",
    "    lon = coordinates['Longitude'][i]\n",
    "    data = get_data(URL, lat, lon, start_date, end_date)\n",
    "    data['estado'] = estado\n",
    "    data['lat'] = lat\n",
    "    data['lon'] = lon\n",
    "    wind_speed = pd.concat([wind_speed, data])"
   ]
  },
  {
   "cell_type": "code",
   "execution_count": null,
   "id": "a376e955",
   "metadata": {},
   "outputs": [],
   "source": [
    "wind_speed = wind_speed.reset_index().rename(columns={'index':'data'})"
   ]
  },
  {
   "cell_type": "code",
   "execution_count": null,
   "id": "8d2c846e",
   "metadata": {},
   "outputs": [],
   "source": [
    "wind_speed['data'] = pd.to_datetime(wind_speed['data'])"
   ]
  },
  {
   "cell_type": "code",
   "execution_count": null,
   "id": "25a28d54",
   "metadata": {},
   "outputs": [],
   "source": [
    "teste = wind_speed.groupby(['data', 'estado'])['wind_speed'].mean()"
   ]
  },
  {
   "cell_type": "code",
   "execution_count": null,
   "id": "a2923893",
   "metadata": {},
   "outputs": [],
   "source": [
    "teste = teste.reset_index().sort_values(by = 'estado').reset_index()"
   ]
  },
  {
   "cell_type": "code",
   "execution_count": null,
   "id": "371c5903",
   "metadata": {},
   "outputs": [],
   "source": [
    "teste.drop(['index'],axis=1, inplace=True)"
   ]
  },
  {
   "cell_type": "code",
   "execution_count": null,
   "id": "ab736931",
   "metadata": {},
   "outputs": [],
   "source": [
    "teste[teste['estado'] == 'Alagoas']"
   ]
  },
  {
   "cell_type": "code",
   "execution_count": null,
   "id": "3cf5a476",
   "metadata": {},
   "outputs": [],
   "source": [
    "wind_speed = pd.read_excel('../data/raw/wind_speed.xlsx')\n",
    "wind_speed.head()"
   ]
  },
  {
   "cell_type": "code",
   "execution_count": null,
   "id": "b90a11a9",
   "metadata": {},
   "outputs": [],
   "source": [
    "columns = wind_speed.drop('Data', axis=1).columns.to_list()"
   ]
  },
  {
   "cell_type": "code",
   "execution_count": null,
   "id": "365ca187",
   "metadata": {},
   "outputs": [],
   "source": [
    "columns"
   ]
  },
  {
   "cell_type": "code",
   "execution_count": null,
   "id": "8908725d",
   "metadata": {},
   "outputs": [],
   "source": [
    "wind_speed2 = pd.melt(wind_speed, id_vars=['Data'], value_vars=columns, \n",
    "                      var_name = 'estado', value_name='y')\n",
    "wind_speed2"
   ]
  },
  {
   "cell_type": "code",
   "execution_count": null,
   "id": "172d48a4",
   "metadata": {},
   "outputs": [],
   "source": [
    "wind_2024 = teste.copy()"
   ]
  },
  {
   "cell_type": "code",
   "execution_count": null,
   "id": "c6b366fb",
   "metadata": {},
   "outputs": [],
   "source": [
    "wind_2024 = wind_2024.rename(columns = {\n",
    "    'data': 'Data',\n",
    "    'wind_speed':'y'\n",
    "})"
   ]
  },
  {
   "cell_type": "code",
   "execution_count": null,
   "id": "85db2116",
   "metadata": {},
   "outputs": [],
   "source": [
    "wind_speed2 = pd.concat([wind_speed2, wind_2024])"
   ]
  },
  {
   "cell_type": "code",
   "execution_count": null,
   "id": "2aef3d0f",
   "metadata": {},
   "outputs": [],
   "source": [
    "wind_2024 = pd.read_excel('../data/raw/wind_speed_2024.xlsx')"
   ]
  },
  {
   "cell_type": "code",
   "execution_count": null,
   "id": "ebdc347a",
   "metadata": {},
   "outputs": [],
   "source": [
    "wind_speed2['Data'] = pd.to_datetime(wind_speed2['Data'])"
   ]
  },
  {
   "cell_type": "code",
   "execution_count": null,
   "id": "e5a4ac48",
   "metadata": {},
   "outputs": [],
   "source": [
    "wind_2024.info()"
   ]
  },
  {
   "cell_type": "code",
   "execution_count": null,
   "id": "fc68b88c",
   "metadata": {},
   "outputs": [],
   "source": [
    "wind_2024.sort_values(by = 'estado', inplace = True)"
   ]
  },
  {
   "cell_type": "code",
   "execution_count": null,
   "id": "6583fa27",
   "metadata": {},
   "outputs": [],
   "source": [
    "wind_2024.sort_index()"
   ]
  },
  {
   "cell_type": "code",
   "execution_count": null,
   "id": "bc837268",
   "metadata": {},
   "outputs": [],
   "source": [
    "wind_2024 = wind_2024[['Data', 'estado', 'y']]\n",
    "wind_2024.sort_values(by = 'Data')"
   ]
  },
  {
   "cell_type": "code",
   "execution_count": null,
   "id": "498758de",
   "metadata": {},
   "outputs": [],
   "source": [
    "wind_2024.sort_values(by=['Data'])"
   ]
  },
  {
   "cell_type": "code",
   "execution_count": null,
   "id": "c1337a30",
   "metadata": {},
   "outputs": [],
   "source": [
    "df_pivot = wind_2024.pivot(index='Data', columns='estado', values='y')"
   ]
  },
  {
   "cell_type": "code",
   "execution_count": null,
   "id": "07d4b808",
   "metadata": {},
   "outputs": [],
   "source": [
    "df_pivot = df_pivot.reset_index()"
   ]
  },
  {
   "cell_type": "code",
   "execution_count": null,
   "id": "4774b2cb",
   "metadata": {},
   "outputs": [],
   "source": [
    "df_pivot.columns.name = None"
   ]
  },
  {
   "cell_type": "code",
   "execution_count": null,
   "id": "99a44089",
   "metadata": {},
   "outputs": [],
   "source": [
    "df_pivot"
   ]
  },
  {
   "cell_type": "code",
   "execution_count": null,
   "id": "20eb86d3",
   "metadata": {},
   "outputs": [],
   "source": [
    "df_pivot.to_excel('../data/raw/wind_speed_2024.xlsx')"
   ]
  },
  {
   "cell_type": "code",
   "execution_count": null,
   "id": "2c6be963",
   "metadata": {},
   "outputs": [],
   "source": []
  }
 ],
 "metadata": {
  "kernelspec": {
   "display_name": "masters-project-py3.13",
   "language": "python",
   "name": "python3"
  },
  "language_info": {
   "codemirror_mode": {
    "name": "ipython",
    "version": 3
   },
   "file_extension": ".py",
   "mimetype": "text/x-python",
   "name": "python",
   "nbconvert_exporter": "python",
   "pygments_lexer": "ipython3",
   "version": "3.13.4"
  }
 },
 "nbformat": 4,
 "nbformat_minor": 5
}
